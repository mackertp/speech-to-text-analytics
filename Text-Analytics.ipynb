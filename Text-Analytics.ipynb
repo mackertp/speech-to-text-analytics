{
    "nbformat_minor": 1, 
    "cells": [
        {
            "source": "# Loading JSON Output of Speech-to-Text from Cloud Object Storage", 
            "cell_type": "markdown", 
            "metadata": {}
        }, 
        {
            "source": "# @hidden_cell\n# The following code contains the credentials for a file in your IBM Cloud Object Storage.\n# You might want to remove those credentials before you share your notebook.\njson_credentials = {\n    'IAM_SERVICE_ID': 'iam-ServiceId-d10c178c-3cd8-47b4-84a0-7c3dd2358a37',\n    'IBM_API_KEY_ID': 'va2FMddlCqG1PWfwaD7GEmYCHPj2zWatAMO94faKpMns',\n    'ENDPOINT': 'https://s3-api.us-geo.objectstorage.service.networklayer.com',\n    'IBM_AUTH_ENDPOINT': 'https://iam.bluemix.net/oidc/token',\n    'BUCKET': 'watsonmltutorial-donotdelete-pr-avritkhxkv7wgw',\n    'FILE': 'nixon_speech.json'\n}", 
            "cell_type": "code", 
            "metadata": {}, 
            "outputs": [], 
            "execution_count": 1
        }, 
        {
            "source": "from ibm_botocore.client import Config\nimport ibm_boto3\n\ncos = ibm_boto3.client(\n    service_name='s3',\n    ibm_api_key_id=json_credentials['IBM_API_KEY_ID'],\n    ibm_service_instance_id=json_credentials['IAM_SERVICE_ID'],\n    ibm_auth_endpoint=json_credentials['IBM_AUTH_ENDPOINT'],\n    config=Config(signature_version='oauth'),\n    endpoint_url=json_credentials['ENDPOINT']\n)", 
            "cell_type": "code", 
            "metadata": {}, 
            "outputs": [], 
            "execution_count": 2
        }, 
        {
            "source": "cos.download_file(Bucket=json_credentials['BUCKET'],Key='nixon_speech.json',Filename='nixon_speech.json')", 
            "cell_type": "code", 
            "metadata": {}, 
            "outputs": [], 
            "execution_count": 3
        }, 
        {
            "source": "# Parsing out and constructing JSON data into a useful dictionary (only 1 transcript)\n\nStoring and printing out the different parts of the data returned from Watson's STT services. From this data we can start to run analytics. We would want to save the \"transcript\" portion back out to the PCP, the rest of the data we will probably not want to store. The \"confidence\" and the \"words\" will be used for creating and testing the custom language and acoustic models. ", 
            "cell_type": "markdown", 
            "metadata": {}
        }, 
        {
            "source": "import json\n\n# dictionary full of nested dicts because of meta-data, parsing out\njson_dict = json.loads(open(\"nixon_speech.json\").read())\nresult = json_dict.get(\"result\")\nresults = result.get(\"results\")\n\n# watson's json response breaks data up into partial dictionaries and needs to be restitched\nword_confidence_hub = []\npartial_confidence_hub = []\nfull_transcript = \"\"\nchunks = []\n\n# commence the stitching\nfor partial_dict in results:\n    # each partial dict has two values. first is the content, second is boolean True\n    alternatives = partial_dict.get(\"alternatives\")[0]\n\n    # gather all of the partial content\n    word_confidence = alternatives.get(\"word_confidence\")\n    partial_confidence = alternatives.get(\"confidence\")\n    partial_transcript = alternatives.get(\"transcript\")\n\n    # stitch partial content into larger data sets\n    partial_confidence_hub.append(partial_confidence)\n    full_transcript += partial_transcript\n    # the word confidence is nested... un-nesting it\n    for word in word_confidence:\n        word_confidence_hub.append(word)\n\n    # add the partial_dict for reference purposes\n    chunks.append(partial_dict)\n\n# calculating the overall confidence level from partial confidences\nconfidence = sum(partial_confidence_hub) / len(partial_confidence_hub)\n\n# reconstructing the dictionary into something more useful and returning\nreturn_dict = {\"transcript\": full_transcript, \"confidence\": confidence, \"words\": word_confidence_hub, \"chunks\": chunks}", 
            "cell_type": "code", 
            "metadata": {}, 
            "outputs": [], 
            "execution_count": 4
        }, 
        {
            "source": "print(return_dict[\"transcript\"])", 
            "cell_type": "code", 
            "metadata": {}, 
            "outputs": [
                {
                    "output_type": "stream", 
                    "name": "stdout", 
                    "text": "good evening my fellow Americans ten days ago and my report to the nation on Vietnam analysts the decision to withdraw an additional one hundred and fifty thousand Americans from Vietnam over the next year I said then that I was making that decision despite our concerns over increased enemy activity in Laos in Cambodia and in South Vietnam and at that time I warned that if I concluded that increased enemy activity in any of these areas endanger the lives of Americans remaining in Vietnam I would not hesitate to take strong and effective measures to deal with that situation despite that morning North Vietnam has increased its military aggression in all these areas and particularly in Cambodia after full consultation with the National Security Council longer generally and my other advisers I have concluded that the actions of the enemy in the last ten days clearly endanger the lives of Americans who are in Vietnam now and would constitute an unacceptable risk of those who will be there actor withdrawal of another hundred fifty thousand to protect our men who are in Vietnam and to guarantee the continued success of our withdrawal programs I have concluded the time has come for action tonight I should describe the actions of the enemy the actions I order to deal with that situation and the reasons for my decision Cambodia a small country of seven million people has been a neutral nations since the Geneva agreement of nineteen fifty four agreements of traveling which was signed by the government of North Vietnam American policy since then it's been two scrupulously respect the neutrality of the Cambodian people we have maintained a skeleton diplomatic mission of fewer than fifteen in Cambodia's capital and that only since last August for the previous four years from nineteen sixty five to nineteen sixty nine we did not have any diplomatic mission whatever and for the past five years we have provided no military assistance whatever and no economic assistance to Cambodia North Vietnam however has not respected that for the past five years as indicated on this map that you see here North Vietnam has occupied military centuries all along the Cambodian frontiers with South Vietnam some of these extend up to twenty miles in Cambodia the sanctuaries are in red and as you know they are on both sides of the border there you for him attacks on American and south Vietnamese forces in South Vietnam these communist occupied territories contain major base camps training sites logistics facilities weapons and ammunition factories strips and prisoner of war compounds and for five years neither the United States nor South Vietnam has more against these enemy sanctuaries because we did not wish to violate the territory of the neutral nation even after the Vietnamese communists began to expand the sanctuary store weeks ago we counsel patients to our south Vietnamese allies and imposed restraint on our own commanders in contrast to our policy the enemy in the past two weeks has stepped up his guerrilla actions and he is concentrating his main forces in the sanctuary is that you see on this map they are building up to launch massive attacks on our forces and those of South Vietnam North Vietnam and the last two weeks has stripped away all pretense of respecting the sovereignty or the neutrality of Cambodia thousands of their soldiers are invading the country from the sanctuary daring circling the capital of non coming from the sanctuary agency here they have moved into Cambodia and arms circling the capital Cambodia as a result of this is about a call to the United States %HESITATION number of other nations for assistance because of this enemy effort succeeds Cambodia would become a vast and on the stage and a springboard for attacks on South Vietnam along six hundred miles from here a refuge where enemy troops could return from combat without north Vietnamese man in surprise could then be poured into that country jeopardizing not only the lives of our own man but the people of South Vietnam as well confronted with the situation we have three options first do not all the result of that course of action is clear unless we indulge in wishful thinking a lot of American remaining in Vietnam after our next withdrawal of a hundred and fifty thousand would be greatly the map again South Vietnam there is North Vietnam North Vietnam already occupies this part of Laos if North Vietnam also occupied this whole band in Cambodia or the entire country it would mean South Vietnam was completely offline and the thousands of Americans in this area as well as the south Vietnamese would be an untenable military position our second choice is to provide massive military assistance to Cambodia unfortunately while we deeply sympathize with the plight of seven million Cambodians was countries and massive amounts of military assistance could not be rapidly and effectively utilized by the small Cambodian army against the immediate threat with other nations we should do our best to provide the small arms and other equipment which the Cambodian army forty needs and can use for its defense but we will provide will be limited the purpose of enabling Cambodia to defendants controller and not for the purpose of making it an active belligerent on one side or the other our third choice is to go to the heart of the trouble and that means cleaning out major north Vietnamese and Viet Cong occupied territories the centuries which serve as bases for attacks on both Cambodia and American and south Vietnamese forces in South Vietnam some of these incidentally are as close to Saigon as Baltimore is to wash this one for example is called the it's only thirty three miles from Saigon now faced with these three options this is the decision I have made in cooperation with the armed forces in South Vietnam attacks are being launched this week to clean out major enemy sanctuaries on the Cambodian Vietnam border a major responsibility for the ground operations as being assumed by south Vietnamese forces for example the attacks in several areas including the parents that I referred to a moment ago are exclusively exclusively south Vietnamese ground operations under south Vietnamese command with United States providing care and artistical support there is one area however immediately about parents where I have concluded that a combined American and south Vietnamese operation is necessary tonight and south Vietnamese units will attack the headquarters for the entire communist military operation in South Vietnam this can you control center has been occupied by the north Vietnamese and Viet Cong for five years relation of Cambodia's neutrality this is not an invasion of Cambodia areas in which these attacks will be launched her completely occupied in control by north Vietnamese forces our purpose is not occupied areas once enemy forces are driven out of the sanctuary wants their military supplies are destroyed we will withdraw these actions are in no way directed to the security interests of any nation any government chooses to use these actions as a pretext for harming relations with the United States will be doing so on its own responsibility and on its own initiative and we will draw conclusions and I let me give you the reasons for my decision a majority of the American people a majority of you listening to me our for the withdrawal of our forces from the the action I have taken the night is indispensable for the continuing success of that withdrawal program a majority of the American people want to end this war rather than to have a drag on interminably the action I have taken the night will serve that purpose a majority of the American people want to keep the casualties of our brave men in Vietnam the action I take tonight is essential if we are to accomplish that goal we take this action not for the purpose of expanding the war into Cambodia but for the purpose of ending the war in Vietnam and winning the just peace we all desire we have made it will continue to make every possible effort to end this war through negotiations the conference table rather than through more fighting in the battle let's look again at the record we stop the bombing of North Vietnam we have cut their operations by over twenty percent we will not withdraw over two hundred and fifty thousand of our men we've offered withdraw all of our for all the errors we want her to go shoot all issues with only one condition and that is the future of South Vietnam be determined not by North Vietnam and not by the United States but by the people of South Vietnam themselves the answer from the enemy has been intransigence at the conference table massive military aggression in Laos and Cambodia and stepped up attacks in South Vietnam designed to increase American this attitude has become intolerable we will not react to this threat to American lives by diplomatic protests if we did ability of the United States would be destroyed in every area of the world only the power of the United States deters aggression hi again warned the north Vietnamese they continue to escalate the fighting when the United States is withdrawing its forces are show me my responsibility as commander in chief of our armed forces to take the action I consider necessary the security of our American the action that I have announced tonight puts the leaders of North Vietnam on notice we will be patient and working for we will be conciliatory at the conference table we will not be we will not be we will not allow American by the to be killed by an enemy from sanctuary long ago in this war through peaceful negotiations we stand ready for those negotiations we've made major efforts many of which must remain secret hi all the offers and approaches made previously remain on the car whenever Hanoi is ready to negotiate service the enemy response to our most conciliatory offers for peaceful negotiation the tracks and humiliate we shall we act according my fellow Americans we live in an age of anarchy both the broader we see mindless the tracks on all the great institutions which have been created by pre civil citations in the last five hundred years even here in the United States great numbers are being systematically destroyed small nations all over the world find themselves under attack from within and from what when the chips are down the world's most powerful nation the United States of America acts like a full John hello Terry this anarchy will threaten free nations and free institutions throughout the world it is not our but I will encourage that is being tested the question all Americans must pass can answer tonight is this does the richest and strongest nation in the history of the world have the character to meet a direct challenge by a group which rejects every effort to win a job eight dollars are warning solemn agreements violates the neutrality of an unarmed people and users are prisoners hostages if we fail to meet this challenge all other nations will be on notice that despite its overwhelming power the United States when a real crisis during my campaign for the presidency I pledge to bring Americans home they are coming I promise to end this war I should I promise to win a just peace I should keep that promise we show up for a wider war but we are also determined to put an end to this war this Woodrow Wilson made the great decisions which led to victory in World War one Franklin Roosevelt made the decisions which led to our victory in World War two quite the Eisenhower make decisions which ended the war in Korea going to war in the Middle East John F. Kennedy in his finest hour the great decision which remote Soviet nuclear missiles from Cuba and the west I have no there's been a great deal of discussion with regard to this decision that I made and I should point out that I do not contend that it is in the same back to as these decisions but I just mention but between those decisions and this decision there is a difference and those decisions the American people were not on sale buy councils of god in defeat from some of the most widely known opinion leaders of the nation I have noted for example that a Republican senator this action I have taken means that my party has lost all chance of winning the November elections and others are saying today that this move against enemy sanctuaries or make me a one term president no one is more aware than I of the political consequences of the action I it is tempting to take the easy political path to blame this war on previous administrations and bring all of our men home immediately regardless of the consequences even though that would mean the thing for the United States to desert eighteen million south Vietnamese people who have put their trust in us to expose them to the same slaughter and savagery which the leaders of North Vietnam inflicted on hundreds of thousands of north Vietnamese who chose freedom when the communists took over North Vietnam in nineteen for to get peace at any price even though I know a piece of humiliation for the United States would lead to a bigger war or surrender I have rejected all political considerations in making this whether my party gains in November is not compared to the lives of four hundred thousand fighting for our country and to the cause of peace whether I may be a one term president as compared to whether by our failure to act in this crisis the United States proves to be worth only the forces of freedom in this critical I would rather be a one term president and do what I believe is right and to be a two term president at the cost of seating America become a second rate and to see this nation except the first and it's a problem one hundred and ninety I realize that in this war other honest differences in this country about whether we should have a common wall their differences and how the war should have been conducted the decision I am out of my trance differences for the lives of American men the opportunity for a hundred and fifty thousand Americans to come home in the next twelve months the future of eighteen million people in South Vietnam seven million people in Cambodia the possibility of winning a just peace in Vietnam and in the Pacific is at stake it is customary to conclude a speech from the White House by asking support the president of the United I depart from that president what I ask is far more important I ask for your support our our brave men fighting halfway around the world not for territory for the glory but some of their younger brothers and their son and your son can I have a chance to grow up in a world and and just thank you \n"
                }
            ], 
            "execution_count": 5
        }, 
        {
            "source": "print(return_dict[\"confidence\"])", 
            "cell_type": "code", 
            "metadata": {}, 
            "outputs": [
                {
                    "output_type": "stream", 
                    "name": "stdout", 
                    "text": "0.8109411764705887\n"
                }
            ], 
            "execution_count": 6
        }, 
        {
            "source": "# would print out all of the words, with their confidence... commenting out to save space\n# print(return_dict[\"words\"])", 
            "cell_type": "code", 
            "metadata": {}, 
            "outputs": [], 
            "execution_count": 7
        }, 
        {
            "source": "# would print out all of the sub-dictionaries, the audio is segmented and scored by the transcription service to preserve accuracy, we would want this for testing and to determine speaker\n# print(return_dict[\"chunks\"])", 
            "cell_type": "code", 
            "metadata": {}, 
            "outputs": [], 
            "execution_count": 8
        }, 
        {
            "source": "# Using Watson's Tonal Analysis service\n\nhttps://cloud.ibm.com/apidocs/tone-analyzer?language=python", 
            "cell_type": "markdown", 
            "metadata": {}
        }, 
        {
            "source": "from watson_developer_cloud import ToneAnalyzerV3 as TA\n\ntone_analyzer = TA(version='2017-09-21', iam_apikey='P641bf4cTjQ_uJUr8LAa6nfichCNIwzjF-RZrha5mDP9', url='https://gateway.watsonplatform.net/tone-analyzer/api')\njson_data = tone_analyzer.tone(tone_input=return_dict[\"transcript\"], content_type=\"text/plain\")", 
            "cell_type": "code", 
            "metadata": {}, 
            "outputs": [], 
            "execution_count": 9
        }, 
        {
            "source": "## formatting the returned dictionary into readible dict (each tone is a key)", 
            "cell_type": "markdown", 
            "metadata": {}
        }, 
        {
            "source": "# formatting json data into a dictionary\nresult_string = str(json_data)\njson_acceptable_string = result_string.replace(\"''\", \"\\\"\")\ndict = json.loads(json_acceptable_string)", 
            "cell_type": "code", 
            "metadata": {}, 
            "outputs": [], 
            "execution_count": 10
        }, 
        {
            "source": "# reconfiguring json dictionary into better format\nresult = dict.get(\"result\")\ntone_dict = result[\"document_tone\"]\ntone_dict = tone_dict[\"tones\"]\nnew_dict = {}\nfor tone in tone_dict:\n    tone_name = tone[\"tone_name\"]\n    tone_score = tone[\"score\"]\n    new_dict[tone_name] = tone_score\n\nprint(new_dict)", 
            "cell_type": "code", 
            "metadata": {}, 
            "outputs": [
                {
                    "output_type": "stream", 
                    "name": "stdout", 
                    "text": "{'Analytical': 0.578542, 'Anger': 0.628574}\n"
                }
            ], 
            "execution_count": 11
        }, 
        {
            "source": "# Using Watson's Personality Insights service\n\nhttps://cloud.ibm.com/apidocs/personality-insights", 
            "cell_type": "markdown", 
            "metadata": {}
        }, 
        {
            "source": "from watson_developer_cloud import PersonalityInsightsV3 as PI\n\npersonality_insights = PI(version='2017-10-13', iam_apikey='AwdMEkC22JRpgiowRaSTyCGJzVoWULI9lc6EypsRoOYS', url='https://gateway.watsonplatform.net/personality-insights/api')\njson_data = personality_insights.profile(return_dict[\"transcript\"], content_type=\"text/plain\", raw_scores=True, consumption_preferences=True)", 
            "cell_type": "code", 
            "metadata": {}, 
            "outputs": [], 
            "execution_count": 12
        }, 
        {
            "source": "# formatting json data into dictionary\nresult_string = str(json_data)\njson_acceptable_string = result_string.replace(\"''\",\"\\\"\")\ndict = json.loads(json_acceptable_string)", 
            "cell_type": "code", 
            "metadata": {}, 
            "outputs": [], 
            "execution_count": 13
        }, 
        {
            "source": "# the result dictionary for personality insights returns the following dictionaries\nresult = dict.get(\"result\")\nfor key in result:\n    print(key)", 
            "cell_type": "code", 
            "metadata": {}, 
            "outputs": [
                {
                    "output_type": "stream", 
                    "name": "stdout", 
                    "text": "values\nwarnings\nword_count\npersonality\nneeds\nconsumption_preferences\nprocessed_language\n"
                }
            ], 
            "execution_count": 14
        }, 
        {
            "source": "# creating variables for each sub-dictionary\nvalues = result.get(\"values\")\npersonality = result.get(\"personality\")\nconsumption_preferences = result.get(\"consumption_preferences\")\nwarnings = result.get(\"warnings\")\nword_count = result.get(\"word_count\")\nneeds = result.get(\"needs\")\nprocessed_language = result.get(\"processed_language\")", 
            "cell_type": "code", 
            "metadata": {}, 
            "outputs": [], 
            "execution_count": 15
        }, 
        {
            "source": "# values sub-dictionary\nfor value in values:\n    name = value[\"name\"]\n    category = value[\"category\"] # this will always be 'values'\n    significant = value[\"significant\"] # binary, either true or false\n    raw_score = value[\"raw_score\"]\n    trait_id = value[\"trait_id\"] # same as the name, but denoted as 'value_' + name\n    percentile = value[\"percentile\"]\n    \n    print(name)\n    print(\"\\t\", \"score: \", raw_score, \"\\t\", \"percentile: \", percentile, \"\\t\", \"is significant: \", significant, \"\\n\")", 
            "cell_type": "code", 
            "metadata": {}, 
            "outputs": [
                {
                    "output_type": "stream", 
                    "name": "stdout", 
                    "text": "Conservation\n\t score:  0.6360536368389874 \t percentile:  0.25703308781549816 \t is significant:  True \n\nOpenness to change\n\t score:  0.7896335121987585 \t percentile:  0.5553296069536555 \t is significant:  True \n\nHedonism\n\t score:  0.5916598630822453 \t percentile:  0.010919858577356112 \t is significant:  True \n\nSelf-enhancement\n\t score:  0.6237624348849744 \t percentile:  0.029916994024364763 \t is significant:  True \n\nSelf-transcendence\n\t score:  0.8114295445612572 \t percentile:  0.09311628707734587 \t is significant:  True \n\n"
                }
            ], 
            "execution_count": 16
        }, 
        {
            "source": "# personality sub-dictionary (contains another sub-dict)\nfor p in personality:\n    name = p[\"name\"]\n    category = p[\"category\"] # will always be personality\n    children = p[\"children\"]\n    raw_score = p[\"raw_score\"]\n    trait_id = p[\"trait_id\"]\n    significant = p[\"significant\"]\n    percentile = p[\"percentile\"]\n    for child in children:\n        child_name = child[\"name\"]\n        child_category = child[\"category\"] # will always be personality\n        child_significant = child[\"significant\"]\n        child_raw_score = child[\"raw_score\"]\n        child_trait_id = child[\"trait_id\"]\n        child_percentile = child[\"percentile\"]", 
            "cell_type": "code", 
            "metadata": {}, 
            "outputs": [], 
            "execution_count": 17
        }, 
        {
            "source": "", 
            "cell_type": "code", 
            "metadata": {}, 
            "outputs": [], 
            "execution_count": null
        }
    ], 
    "metadata": {
        "kernelspec": {
            "display_name": "Python 3.5", 
            "name": "python3", 
            "language": "python"
        }, 
        "language_info": {
            "mimetype": "text/x-python", 
            "nbconvert_exporter": "python", 
            "version": "3.5.5", 
            "name": "python", 
            "pygments_lexer": "ipython3", 
            "file_extension": ".py", 
            "codemirror_mode": {
                "version": 3, 
                "name": "ipython"
            }
        }
    }, 
    "nbformat": 4
}